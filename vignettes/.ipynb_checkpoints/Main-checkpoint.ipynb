{
 "cells": [
  {
   "cell_type": "markdown",
   "id": "9785db44-2aff-4774-9b78-92e0023ff2df",
   "metadata": {},
   "source": [
    "# JobSeekerAgency: an Agentic Workflow to make the whole process of find your next dream job effortless"
   ]
  },
  {
   "cell_type": "code",
   "execution_count": 1,
   "id": "441eb53f-f407-40b8-942b-ee9f3d5d2ded",
   "metadata": {},
   "outputs": [],
   "source": [
    "import sys\n",
    "sys.path.append('../python')\n",
    "sys.path.append('../../keys')"
   ]
  },
  {
   "cell_type": "code",
   "execution_count": 2,
   "id": "59a68581-933a-4a51-9174-b71bf5e9f62c",
   "metadata": {},
   "outputs": [],
   "source": [
    "%load_ext autoreload\n",
    "%autoreload 2\n",
    "\n",
    "import os\n",
    "from langchain.prompts import (\n",
    "    PromptTemplate,\n",
    "    ChatPromptTemplate,\n",
    "    SystemMessagePromptTemplate,\n",
    "    HumanMessagePromptTemplate,\n",
    ")\n",
    "from langchain.schema import Document\n",
    "from langchain_core.messages import ToolMessage, BaseMessage, AIMessage, HumanMessage, SystemMessage\n",
    "from langchain_openai import ChatOpenAI\n",
    "from langchain.document_loaders import WikipediaLoader\n",
    "\n",
    "from langchain.document_loaders import CSVLoader\n",
    "\n",
    "# chains\n",
    "from langchain.chains import LLMChain, SequentialChain, SimpleSequentialChain, RouterChain, TransformChain\n",
    "from langchain.chains.router import MultiPromptChain\n",
    "from langchain.chains.router.multi_prompt_prompt import MULTI_PROMPT_ROUTER_TEMPLATE\n",
    "from langchain.chains.router.llm_router import LLMRouterChain,RouterOutputParser\n",
    "\n",
    "# memory\n",
    "from langchain.memory import ChatMessageHistory, ConversationBufferMemory, ConversationBufferWindowMemory, ConversationSummaryBufferMemory\n",
    "from langchain.chains import ConversationChain\n",
    "import pickle\n",
    "# Agents\n",
    "from langchain.agents import load_tools, initialize_agent, AgentType, tool\n",
    "\n",
    "# RAG\n",
    "import chromadb\n",
    "from langchain_openai import OpenAIEmbeddings\n",
    "from langchain_chroma import Chroma\n",
    "from langchain.document_loaders import TextLoader\n",
    "from langchain.text_splitter import CharacterTextSplitter\n",
    "from langchain_core.output_parsers import StrOutputParser\n",
    "from langchain_core.runnables import RunnablePassthrough\n",
    "\n",
    "## LangGraph\n",
    "from pydantic import BaseModel, Field\n",
    "from typing import List,Sequence,TypedDict,Annotated,Literal\n",
    "from langgraph.graph import START, END, StateGraph, MessagesState\n",
    "from langgraph.graph.message import add_messages\n",
    "from langgraph.prebuilt import ToolNode\n",
    "from operator import add\n",
    "from langgraph.checkpoint.memory import MemorySaver, InMemorySaver\n",
    "\n",
    "## Visualize the graph:\n",
    "from IPython.display import Image, display\n",
    "from langchain_core.runnables.graph import MermaidDrawMethod\n",
    "\n",
    "## OpenAI\n",
    "from openai import OpenAI \n",
    "\n",
    "## Custom scripts:\n",
    "import Constants as C\n",
    "\n",
    "import warnings\n",
    "warnings.filterwarnings(\"ignore\")"
   ]
  },
  {
   "cell_type": "code",
   "execution_count": 3,
   "id": "952de13b-8fe9-45df-85ef-dfdd361de065",
   "metadata": {},
   "outputs": [],
   "source": [
    "os.environ['OPENAI_API_KEY'] = C.OPENAI_API_KEY\n",
    "os.environ['SERPAPI_API_KEY'] = C.SERPAPI_API_KEY # make sure it spelled as: SERPAPI_API_KEY"
   ]
  },
  {
   "cell_type": "markdown",
   "id": "90ca338e-2ee4-494d-9c7d-ea5c6f1f9a22",
   "metadata": {},
   "source": [
    "## Functions"
   ]
  },
  {
   "cell_type": "code",
   "execution_count": null,
   "id": "efef9533-6041-4ca9-9e98-d0994a61a990",
   "metadata": {},
   "outputs": [],
   "source": []
  },
  {
   "cell_type": "markdown",
   "id": "36be5fec-69d7-46b6-a8ab-fab307cac268",
   "metadata": {},
   "source": [
    "## Tools"
   ]
  },
  {
   "cell_type": "code",
   "execution_count": 4,
   "id": "6fa1f00b-4a4d-4f66-b6a0-2db04f9e230e",
   "metadata": {},
   "outputs": [],
   "source": [
    "@tool\n",
    "def web_search_jobs_CH(company: str) -> str:\n",
    "    \"\"\"Use OpenAI's built-in web_search to find current jobs in Switzerland for a given company.\n",
    "    Uses company name as input argument and returns a json formatted list\"\"\"\n",
    "    \n",
    "    # looks like the llm understands how to use the keyword as input\n",
    "    query = f\"site:{company.lower()}.com careers jobs Switzerland\"\n",
    "    print('> QUERY',query)\n",
    "    resp = client.responses.create(\n",
    "        model=\"gpt-4.1-mini\",\n",
    "        tools=[{\"type\": \"web_search\"}],\n",
    "        input=f\"Find ALL CURRENT job postings for {company} in Switzerland (Lausanne, Zurich, Basel and Bern) specifically using this domain: 'https://csl.wd1.myworkdayjobs.com/en-EN/CSL_External'. Return JSON list {{title, location, link}}.\"\n",
    "    )\n",
    "    output = f'Here are the current job postings for {company}: {resp.output_text}'\n",
    "    # return resp.output_text\n",
    "    return output\n",
    "\n",
    "@tool\n",
    "def coolest_guy(text:str) -> str:\n",
    "    '''\n",
    "    Returns the name of the coolest person in the universe.\n",
    "    Expects an input of an empty string '' and returns the name of the coolest\n",
    "    person in the universe\n",
    "    '''\n",
    "    return 'Jose Portilla'"
   ]
  },
  {
   "cell_type": "markdown",
   "id": "e695c616-81d4-48b6-b720-ea2010435a0a",
   "metadata": {},
   "source": [
    "## Main"
   ]
  },
  {
   "cell_type": "code",
   "execution_count": 25,
   "id": "fb254ee4-6cf7-46e6-94a9-7d2d0a05c831",
   "metadata": {},
   "outputs": [],
   "source": [
    "# define your GPT chat model\n",
    "client = OpenAI()\n",
    "tools  = [web_search_jobs_CH,coolest_guy]\n",
    "gpt    = ['gpt-4o-mini','gpt-5','gpt-5-nano'][1]\n",
    "model  = ChatOpenAI(model=gpt,openai_api_key=os.environ['OPENAI_API_KEY'],temperature=0).bind_tools(tools)"
   ]
  },
  {
   "cell_type": "code",
   "execution_count": 26,
   "id": "174ece97-baef-4d5c-8499-e941794f8754",
   "metadata": {},
   "outputs": [],
   "source": [
    "class ChatMessages(TypedDict):\n",
    "    messages: List[BaseMessage]\n",
    "    question: HumanMessage # store the original question\n",
    "    \n",
    "\n",
    "def run_coder(state: ChatMessages):\n",
    "\n",
    "    print('\\n>> CALL MODEL>>\\n')\n",
    "    \n",
    "    # define the system message\n",
    "    system_message = SystemMessage(\n",
    "        content=\"\"\"You are an expert programmer that is ready to help write some clean and concise python code. Please ensure that:\n",
    "\n",
    "        1. you use beautiful soup and async_playwright\n",
    "        2. you only print/write python runnable code\n",
    "        3. you end with with 'await main()' instead of 'asyncio.run(main())\"\"\"\n",
    "    )\n",
    "    \n",
    "    if \"messages\" not in state or state[\"messages\"] is None:\n",
    "        print(\">> REINITIALIZING MESSAGES STATE!!\")\n",
    "        state[\"messages\"] = []\n",
    "        state[\"messages\"].append(state[\"question\"])\n",
    "        state[\"messages\"].append(system_message)        \n",
    "\n",
    "    messages = state['messages']\n",
    "    prompt   = ChatPromptTemplate.from_messages(messages).format()\n",
    "    response = model.invoke(prompt) # you are calling the llm here!\n",
    "    state['messages'].append(response) # don't forget to add message to the response!\n",
    "    print(state['messages'])\n",
    "    return state\n",
    "\n",
    "def should_continue(state) -> Literal['tools',END]:\n",
    "    messages = state['messages']\n",
    "    # print('\\n>> Should continue:\\n',messages)\n",
    "    last_message = messages[-1]\n",
    "    # check if the last message included a tool call from the agent!\n",
    "    if last_message.tool_calls:\n",
    "        print('\\n>> calling tools\\n')\n",
    "        return \"tools\" # calls the tools node here\n",
    "    return END"
   ]
  },
  {
   "cell_type": "code",
   "execution_count": 27,
   "id": "3561e013-c2a9-48eb-a483-f867ef5f5fd3",
   "metadata": {},
   "outputs": [
    {
     "data": {
      "image/png": "[encoded data removed]",
      "text/plain": [
       "<IPython.core.display.Image object>"
      ]
     },
     "metadata": {},
     "output_type": "display_data"
    }
   ],
   "source": [
    "# tool_node = ToolNode(tools)\n",
    "\n",
    "workflow = StateGraph(ChatMessages)\n",
    "\n",
    "# Nodes\n",
    "workflow.add_node('coder',run_coder)\n",
    "# workflow.add_node('tools',tool_node)\n",
    "\n",
    "# edges\n",
    "workflow.add_edge(START,'coder')\n",
    "# workflow.add_conditional_edges('coder',should_continue) # setting router function for the agent\n",
    "# workflow.add_edge('tools','coder') # you want to link tools to agent because agent is responsible for giving an answer to human\n",
    "# workflow.add_edge('agent',END)\n",
    "\n",
    "checkpointer = MemorySaver() # set memory\n",
    "graph = workflow.compile() # checkpointer=checkpointer\n",
    "display(Image(graph.get_graph().draw_mermaid_png(draw_method=MermaidDrawMethod.API)))"
   ]
  },
  {
   "cell_type": "code",
   "execution_count": 28,
   "id": "29b45cb3-f2df-4a20-93b7-1b9a9393ca2a",
   "metadata": {},
   "outputs": [
    {
     "name": "stdout",
     "output_type": "stream",
     "text": [
      "\n",
      ">> CALL MODEL>>\n",
      "\n",
      ">> REINITIALIZING MESSAGES STATE!!\n",
      "[HumanMessage(content='can you write a short python code to access this CSL career page (https://csl.wd1.myworkdayjobs.com/en-EN/CSL_External?locationCountry=187134fccb084a0ea9b4b95f23890dbe)?', additional_kwargs={}, response_metadata={}), SystemMessage(content=\"You are an expert programmer that is ready to help write some clean and concise python code. Please ensure that:\\n\\n        1. you use beautiful soup and async_playwright\\n        2. you only print/write python runnable code\\n        3. you end with with 'await main()' instead of 'asyncio.run(main())\", additional_kwargs={}, response_metadata={}), AIMessage(content='from bs4 import BeautifulSoup\\nfrom urllib.parse import urljoin\\nfrom playwright.async_api import async_playwright, TimeoutError as PlaywrightTimeoutError\\n\\nURL = \"https://csl.wd1.myworkdayjobs.com/en-EN/CSL_External?locationCountry=187134fccb084a0ea9b4b95f23890dbe\"\\n\\nasync def main():\\n    async with async_playwright() as p:\\n        browser = await p.chromium.launch(headless=True)\\n        context = await browser.new_context()\\n        page = await context.new_page()\\n        await page.goto(URL, wait_until=\"domcontentloaded\")\\n\\n        await page.wait_for_selector(\"iframe\")\\n        target_frame = None\\n        for f in page.frames:\\n            if f != page.main_frame and \"myworkdayjobs.com\" in f.url:\\n                target_frame = f\\n                break\\n        if target_frame is None:\\n            frames = [f for f in page.frames if f != page.main_frame]\\n            target_frame = frames[0] if frames else page.main_frame\\n\\n        try:\\n            await target_frame.wait_for_selector(\\'a[data-automation=\"jobTitle\"]\\', timeout=20000)\\n        except PlaywrightTimeoutError:\\n            pass\\n\\n        html = await target_frame.content()\\n        soup = BeautifulSoup(html, \"html.parser\")\\n\\n        jobs = []\\n        for a in soup.select(\\'a[data-automation=\"jobTitle\"]\\'):\\n            title = a.get_text(strip=True)\\n            href = a.get(\"href\")\\n            link = urljoin(target_frame.url, href) if href else None\\n            container = a.find_parent([\"li\", \"div\"])\\n            location = None\\n            if container:\\n                loc = container.select_one(\\'[data-automation=\"locations\"]\\')\\n                location = loc.get_text(strip=True) if loc else None\\n            jobs.append({\"title\": title, \"url\": link, \"location\": location})\\n\\n        for job in jobs:\\n            print(f\"{job[\\'title\\']} | {job[\\'location\\'] or \\'N/A\\'} | {job[\\'url\\']}\")\\n\\n        await browser.close()\\n\\nawait main()', additional_kwargs={'refusal': None}, response_metadata={'token_usage': {'completion_tokens': 2364, 'prompt_tokens': 330, 'total_tokens': 2694, 'completion_tokens_details': {'accepted_prediction_tokens': 0, 'audio_tokens': 0, 'reasoning_tokens': 1920, 'rejected_prediction_tokens': 0}, 'prompt_tokens_details': {'audio_tokens': 0, 'cached_tokens': 0}}, 'model_name': 'gpt-5-2025-08-07', 'system_fingerprint': None, 'id': 'chatcmpl-CT76UqsfZMp1Zto3sW83CBbRWOpyl', 'service_tier': 'default', 'finish_reason': 'stop', 'logprobs': None}, id='run--6d055543-787d-443b-bf68-66cf6a82f880-0', usage_metadata={'input_tokens': 330, 'output_tokens': 2364, 'total_tokens': 2694, 'input_token_details': {'audio': 0, 'cache_read': 0}, 'output_token_details': {'audio': 0, 'reasoning': 1920}})]\n"
     ]
    },
    {
     "data": {
      "text/plain": [
       "'from bs4 import BeautifulSoup\\nfrom urllib.parse import urljoin\\nfrom playwright.async_api import async_playwright, TimeoutError as PlaywrightTimeoutError\\n\\nURL = \"https://csl.wd1.myworkdayjobs.com/en-EN/CSL_External?locationCountry=187134fccb084a0ea9b4b95f23890dbe\"\\n\\nasync def main():\\n    async with async_playwright() as p:\\n        browser = await p.chromium.launch(headless=True)\\n        context = await browser.new_context()\\n        page = await context.new_page()\\n        await page.goto(URL, wait_until=\"domcontentloaded\")\\n\\n        await page.wait_for_selector(\"iframe\")\\n        target_frame = None\\n        for f in page.frames:\\n            if f != page.main_frame and \"myworkdayjobs.com\" in f.url:\\n                target_frame = f\\n                break\\n        if target_frame is None:\\n            frames = [f for f in page.frames if f != page.main_frame]\\n            target_frame = frames[0] if frames else page.main_frame\\n\\n        try:\\n            await target_frame.wait_for_selector(\\'a[data-automation=\"jobTitle\"]\\', timeout=20000)\\n        except PlaywrightTimeoutError:\\n            pass\\n\\n        html = await target_frame.content()\\n        soup = BeautifulSoup(html, \"html.parser\")\\n\\n        jobs = []\\n        for a in soup.select(\\'a[data-automation=\"jobTitle\"]\\'):\\n            title = a.get_text(strip=True)\\n            href = a.get(\"href\")\\n            link = urljoin(target_frame.url, href) if href else None\\n            container = a.find_parent([\"li\", \"div\"])\\n            location = None\\n            if container:\\n                loc = container.select_one(\\'[data-automation=\"locations\"]\\')\\n                location = loc.get_text(strip=True) if loc else None\\n            jobs.append({\"title\": title, \"url\": link, \"location\": location})\\n\\n        for job in jobs:\\n            print(f\"{job[\\'title\\']} | {job[\\'location\\'] or \\'N/A\\'} | {job[\\'url\\']}\")\\n\\n        await browser.close()\\n\\nawait main()'"
      ]
     },
     "execution_count": 28,
     "metadata": {},
     "output_type": "execute_result"
    }
   ],
   "source": [
    "# %%time\n",
    "company2careerpage = {\n",
    "    'CSL':'https://csl.wd1.myworkdayjobs.com/en-EN/CSL_External?locationCountry=187134fccb084a0ea9b4b95f23890dbe',\n",
    "    'Novartis':'https://www.novartis.com/careers/career-search?search_api_fulltext=data&country%5B0%5D=LOC_CH&field_job_posted_date=All&op=Submit&page=0',\n",
    "    'VISIUM':'https://www.visium.com/join-us#open-positions',\n",
    "    'LENOVO':'https://jobs.lenovo.com/en_US/careers/SearchJobs/?13036=%5B12016783%5D&13036_format=6621&listFilterMode=1&jobRecordsPerPage=10&',\n",
    "    'AWS':'https://www.amazon.jobs/content/en/locations/switzerland/zurich?category%5B%5D=Solutions+Architect'\n",
    "}\n",
    "# 'Can you tell me who is the coolest guy in the univere?' # \n",
    "select     = 'CSL'\n",
    "question   = f\"\"\"can you write a short python code to access this {select} career page ({company2careerpage[select]})?\"\"\" \n",
    "\n",
    "input_data = {\"question\": HumanMessage(content=question)}\n",
    "res1       = graph.invoke(input=input_data, config={\"configurable\": {\"thread_id\": 1}})\n",
    "res1['messages'][-1].content"
   ]
  },
  {
   "cell_type": "code",
   "execution_count": 30,
   "id": "4717b3a2-3b7c-4e14-b6d7-c1ae7c13e4ec",
   "metadata": {},
   "outputs": [
    {
     "name": "stdout",
     "output_type": "stream",
     "text": [
      "from bs4 import BeautifulSoup\n",
      "from urllib.parse import urljoin\n",
      "from playwright.async_api import async_playwright, TimeoutError as PlaywrightTimeoutError\n",
      "\n",
      "URL = \"https://csl.wd1.myworkdayjobs.com/en-EN/CSL_External?locationCountry=187134fccb084a0ea9b4b95f23890dbe\"\n",
      "\n",
      "async def main():\n",
      "    async with async_playwright() as p:\n",
      "        browser = await p.chromium.launch(headless=True)\n",
      "        context = await browser.new_context()\n",
      "        page = await context.new_page()\n",
      "        await page.goto(URL, wait_until=\"domcontentloaded\")\n",
      "\n",
      "        await page.wait_for_selector(\"iframe\")\n",
      "        target_frame = None\n",
      "        for f in page.frames:\n",
      "            if f != page.main_frame and \"myworkdayjobs.com\" in f.url:\n",
      "                target_frame = f\n",
      "                break\n",
      "        if target_frame is None:\n",
      "            frames = [f for f in page.frames if f != page.main_frame]\n",
      "            target_frame = frames[0] if frames else page.main_frame\n",
      "\n",
      "        try:\n",
      "            await target_frame.wait_for_selector('a[data-automation=\"jobTitle\"]', timeout=20000)\n",
      "        except PlaywrightTimeoutError:\n",
      "            pass\n",
      "\n",
      "        html = await target_frame.content()\n",
      "        soup = BeautifulSoup(html, \"html.parser\")\n",
      "\n",
      "        jobs = []\n",
      "        for a in soup.select('a[data-automation=\"jobTitle\"]'):\n",
      "            title = a.get_text(strip=True)\n",
      "            href = a.get(\"href\")\n",
      "            link = urljoin(target_frame.url, href) if href else None\n",
      "            container = a.find_parent([\"li\", \"div\"])\n",
      "            location = None\n",
      "            if container:\n",
      "                loc = container.select_one('[data-automation=\"locations\"]')\n",
      "                location = loc.get_text(strip=True) if loc else None\n",
      "            jobs.append({\"title\": title, \"url\": link, \"location\": location})\n",
      "\n",
      "        for job in jobs:\n",
      "            print(f\"{job['title']} | {job['location'] or 'N/A'} | {job['url']}\")\n",
      "\n",
      "        await browser.close()\n",
      "\n",
      "await main()\n"
     ]
    }
   ],
   "source": [
    "print(res1['messages'][-1].content)"
   ]
  },
  {
   "cell_type": "code",
   "execution_count": null,
   "id": "940947bf-68c2-42a5-8cf1-ff76bb4edbc9",
   "metadata": {},
   "outputs": [],
   "source": []
  },
  {
   "cell_type": "code",
   "execution_count": 26,
   "id": "54f12b20-5507-4eb6-bbc7-5ca75209989c",
   "metadata": {},
   "outputs": [],
   "source": []
  },
  {
   "cell_type": "code",
   "execution_count": 81,
   "id": "22a82bab-f02e-486d-b01e-21a27346079a",
   "metadata": {},
   "outputs": [],
   "source": [
    "# web_search_jobs_CH('CSL')"
   ]
  },
  {
   "cell_type": "code",
   "execution_count": 200,
   "id": "c9e3bd24-ba20-4008-992c-fe4851c395f7",
   "metadata": {},
   "outputs": [],
   "source": [
    "# import ollama\n",
    "# response = ollama.web_search(\"What is Ollama?\")\n",
    "# print(response)"
   ]
  },
  {
   "cell_type": "code",
   "execution_count": 264,
   "id": "5cde3c11-cdb1-4952-9634-33650d5ff5e1",
   "metadata": {},
   "outputs": [],
   "source": []
  },
  {
   "cell_type": "code",
   "execution_count": null,
   "id": "9e30a846-e96c-4baa-8194-b39c793793ee",
   "metadata": {},
   "outputs": [],
   "source": []
  },
  {
   "cell_type": "markdown",
   "id": "9a3b1ac1-41f0-43a8-a8c3-77decb246738",
   "metadata": {
    "jp-MarkdownHeadingCollapsed": true
   },
   "source": [
    "#### CSL"
   ]
  },
  {
   "cell_type": "code",
   "execution_count": 33,
   "id": "f339ecaa-f5d9-4d3b-9b4d-e7d922cb3c2f",
   "metadata": {},
   "outputs": [
    {
     "name": "stderr",
     "output_type": "stream",
     "text": [
      "Future exception was never retrieved\n",
      "future: <Future finished exception=TargetClosedError('Target page, context or browser has been closed')>\n",
      "playwright._impl._errors.TargetClosedError: Target page, context or browser has been closed\n"
     ]
    },
    {
     "name": "stdout",
     "output_type": "stream",
     "text": [
      "Senior Operational Support Scientist & Stv. Abteilungsleiter:in - https://csl.wd1.myworkdayjobs.com/en-US/CSL_External/job/EMEA-CH-Kanton-Bern-Bern-CSL-Behring/Senior-Operational-Support-Scientist---Stv-Team-Lead_R-260905?locationCountry=187134fccb084a0ea9b4b95f23890dbe\n",
      "Operational Support Scientist - https://csl.wd1.myworkdayjobs.com/en-US/CSL_External/job/EMEA-CH-Kanton-Bern-Bern-CSL-Behring/Operational-Support-Scientist_R-262772?locationCountry=187134fccb084a0ea9b4b95f23890dbe\n",
      "Pharmafachmitarbeiter/in Vorbereitungsgruppe Filling Line VI - https://csl.wd1.myworkdayjobs.com/en-US/CSL_External/job/EMEA-CH-Kanton-Bern-Bern-CSL-Behring/Vorbereitungsgruppe_R-261978?locationCountry=187134fccb084a0ea9b4b95f23890dbe\n",
      "Sales Representative Primary Care - Basel, Aargau und Zentralschweiz - https://csl.wd1.myworkdayjobs.com/en-US/CSL_External/job/EMEA-CH-Remote-CSL-Vifor/Sales-Representative-Primary-Care---Basel--Aargau-und-Zentralschweiz_R-259876?locationCountry=187134fccb084a0ea9b4b95f23890dbe\n",
      "Manager (m/w/d) CapEx Finance Business Partner – Bern & Marburg Operations (Network Strategy & Engineering) - https://csl.wd1.myworkdayjobs.com/en-US/CSL_External/job/EMEA-CH-Kanton-Bern-Bern-CSL-Behring/Manager--m-w-d--CapEx-Finance-Business-Partner---Bern---Marburg-Operations--Network-Strategy---Engineering-_R-261170?locationCountry=187134fccb084a0ea9b4b95f23890dbe\n",
      "Senior Director, Head of Translational Research Hematology & CVR - https://csl.wd1.myworkdayjobs.com/en-US/CSL_External/job/EMEA-CH-Schlieren-CSL-Behring/Senior-Director--Head-of-Translational-Research-Hematology---CVR_R-260561-1?locationCountry=187134fccb084a0ea9b4b95f23890dbe\n",
      "Instandhaltungs-Mechaniker:in - https://csl.wd1.myworkdayjobs.com/en-US/CSL_External/job/EMEA-CH-Kanton-Bern-Bern-CSL-Behring/Instandhaltungs-Mechaniker-in_R-261033?locationCountry=187134fccb084a0ea9b4b95f23890dbe\n",
      "Pharmafachmitarbeiter:in Pasteurisation/Inkubation - https://csl.wd1.myworkdayjobs.com/en-US/CSL_External/job/EMEA-CH-Kanton-Bern-Bern-CSL-Behring/Pharmafachmitarbeiter-in-Pasteurisation-Inkubation_R-262168?locationCountry=187134fccb084a0ea9b4b95f23890dbe\n",
      "Senior Director, Cardiovascular & Renal Global Commercial Development - https://csl.wd1.myworkdayjobs.com/en-US/CSL_External/job/Americas-US-MA-Waltham-CSL-Behring/Senior-Director--Cardiovascular---Renal-Global-Commercial-Development_R-261900?locationCountry=187134fccb084a0ea9b4b95f23890dbe\n",
      "Pharmafachmitarbeiter:in Sterilabfüllung (Filling Line V) - https://csl.wd1.myworkdayjobs.com/en-US/CSL_External/job/EMEA-CH-Kanton-Bern-Bern-CSL-Behring/Pharmafachmitarbeiter-in-Sterilabfllung--Filling-Line-V-_R-260904?locationCountry=187134fccb084a0ea9b4b95f23890dbe\n",
      "Pharmafachmitarbeiter:in Sterilabfüllung (Filling Line II) - https://csl.wd1.myworkdayjobs.com/en-US/CSL_External/job/EMEA-CH-Kanton-Bern-Bern-CSL-Behring/Pharmafachmitarbeiter-in-Sterilabfllung--Filling-Line-II-_R-261171?locationCountry=187134fccb084a0ea9b4b95f23890dbe\n",
      "Betriebselektriker / Automatiker EFZ - https://csl.wd1.myworkdayjobs.com/en-US/CSL_External/job/EMEA-CH-Kanton-Bern-Bern-CSL-Behring/Betriebselektriker---Automatiker-EFZ_R-258810?locationCountry=187134fccb084a0ea9b4b95f23890dbe\n",
      "Senior Director, Toxicology & Pharmacokinetics - https://csl.wd1.myworkdayjobs.com/en-US/CSL_External/job/EMEA-CH-Glattbrugg-CSL-Behring/Senior-Director--Toxicology---Pharmacokinetics_R-260519?locationCountry=187134fccb084a0ea9b4b95f23890dbe\n",
      "Global Head Ad Promo - https://csl.wd1.myworkdayjobs.com/en-US/CSL_External/job/Americas-US-PA-King-of-Prussia-CSL-Behring/Global-Head-Ad-Promo_R-260626?locationCountry=187134fccb084a0ea9b4b95f23890dbe\n",
      "Associate Director EHS Bern - https://csl.wd1.myworkdayjobs.com/en-US/CSL_External/job/EMEA-CH-Kanton-Bern-Bern-CSL-Behring/Associate-Director-EHS-Bern_R-258149?locationCountry=187134fccb084a0ea9b4b95f23890dbe\n",
      "Pharmafachmitarbeiter:in Sterilabfüllung - https://csl.wd1.myworkdayjobs.com/en-US/CSL_External/job/EMEA-CH-Kanton-Bern-Bern-CSL-Behring/Pharmafachmitarbeiter-in-Sterilabfllung_R-259872-1?locationCountry=187134fccb084a0ea9b4b95f23890dbe\n",
      "Haustechniker:in / Technische Betreuung Gebäude - https://csl.wd1.myworkdayjobs.com/en-US/CSL_External/job/EMEA-CH-Kanton-Bern-Bern-CSL-Behring/Betriebselektriker-fr-Nachtschicht-100--_R-255943?locationCountry=187134fccb084a0ea9b4b95f23890dbe\n",
      "Elektro-Spezialist:in / SME Elektro & Planer Elektro Engineering - https://csl.wd1.myworkdayjobs.com/en-US/CSL_External/job/EMEA-CH-Kanton-Bern-Bern-CSL-Behring/Elektro-Spezialist-in---SME-Elektro---Planer-Elektro-Engineering_R-255712?locationCountry=187134fccb084a0ea9b4b95f23890dbe\n",
      "Pharma-Fachmitarbeiter:in (Albumin) - https://csl.wd1.myworkdayjobs.com/en-US/CSL_External/job/EMEA-CH-Kanton-Bern-Bern-CSL-Behring/Pharma-Fachmitarbeiter-in--Albumin-_R-256807?locationCountry=187134fccb084a0ea9b4b95f23890dbe\n",
      "Pharmafachmitarbeiter:in Sterilabfüllung - Nachtschicht - https://csl.wd1.myworkdayjobs.com/en-US/CSL_External/job/EMEA-CH-Kanton-Bern-Bern-CSL-Behring/Pharmafachmitarbeiter-in-Sterilabfllung---Nachtschicht_R-257415-1?locationCountry=187134fccb084a0ea9b4b95f23890dbe\n"
     ]
    }
   ],
   "source": [
    "import asyncio\n",
    "from urllib.parse import urljoin\n",
    "from bs4 import BeautifulSoup\n",
    "from playwright.async_api import async_playwright\n",
    "\n",
    "URL = \"https://csl.wd1.myworkdayjobs.com/en-EN/CSL_External?locationCountry=187134fccb084a0ea9b4b95f23890dbe\"\n",
    "\n",
    "async def main():\n",
    "    async with async_playwright() as p:\n",
    "        browser = await p.chromium.launch(headless=True)\n",
    "        context = await browser.new_context()\n",
    "        page = await context.new_page()\n",
    "        await page.goto(URL, wait_until=\"domcontentloaded\")\n",
    "        # Wait for job cards to render\n",
    "        try:\n",
    "            await page.wait_for_selector('a[data-automation-id=\"jobTitle\"], a[data-automation-id=\"jobTitleLink\"]', timeout=20000)\n",
    "        except:\n",
    "            pass\n",
    "        html = await page.content()\n",
    "        await browser.close()\n",
    "\n",
    "    soup = BeautifulSoup(html, \"html.parser\")\n",
    "    jobs = []\n",
    "    for a in soup.select('a[data-automation-id=\"jobTitle\"], a[data-automation-id=\"jobTitleLink\"]'):\n",
    "        title = a.get_text(strip=True)\n",
    "        href = urljoin(URL, a.get(\"href\") or \"\")\n",
    "        if title and href:\n",
    "            jobs.append({\"title\": title, \"url\": href})\n",
    "\n",
    "    for j in jobs:\n",
    "        print(f\"{j['title']} - {j['url']}\")\n",
    "\n",
    "if __name__ == \"__main__\":\n",
    "    await main()"
   ]
  },
  {
   "cell_type": "markdown",
   "id": "83031242-996a-4cee-be7f-76473c897c9a",
   "metadata": {
    "jp-MarkdownHeadingCollapsed": true
   },
   "source": [
    "#### Visium"
   ]
  },
  {
   "cell_type": "code",
   "execution_count": null,
   "id": "62bedb17-f7e1-488f-9220-2b0eeafe47f7",
   "metadata": {},
   "outputs": [],
   "source": [
    "# import asyncio\n",
    "# from urllib.parse import urljoin\n",
    "# from playwright.async_api import async_playwright\n",
    "# from bs4 import BeautifulSoup\n",
    "\n",
    "# async def fetch_visium_jobs():\n",
    "#     url = \"https://www.visium.com/join-us#open-positions\"\n",
    "#     async with async_playwright() as p:\n",
    "#         browser = await p.chromium.launch(headless=True)\n",
    "#         page = await browser.new_page()\n",
    "#         await page.goto(url, wait_until=\"networkidle\")\n",
    "#         # Give JS time to hydrate listings if needed\n",
    "#         await page.wait_for_timeout(1500)\n",
    "#         html = await page.content()\n",
    "#         await browser.close()\n",
    "\n",
    "#     soup = BeautifulSoup(html, \"html.parser\")\n",
    "#     container = soup.select_one(\"#open-positions\") or soup\n",
    "\n",
    "#     jobs = []\n",
    "#     for a in container.select(\"a[href]\"):\n",
    "#         title = a.get_text(strip=True)\n",
    "#         href = a[\"href\"].strip()\n",
    "#         if not title or href.startswith(\"#\"):\n",
    "#             continue\n",
    "#         full_url = urljoin(\"https://www.visium.com/\", href)\n",
    "#         # Heuristic filter for job-like links\n",
    "#         if any(k in href.lower() for k in (\"jobs\", \"careers\", \"positions\", \"greenhouse\", \"lever\", \"apply\", \"join\")):\n",
    "#             jobs.append({\"title\": title, \"url\": full_url})\n",
    "#     return jobs\n",
    "\n",
    "# async def main():\n",
    "#     jobs = await fetch_visium_jobs()\n",
    "#     for j in jobs:\n",
    "#         print(f\"- {j['title']}: {j['url']}\")\n",
    "\n",
    "# if __name__ == \"__main__\":\n",
    "#     await main()"
   ]
  },
  {
   "cell_type": "markdown",
   "id": "1a7e1f3d-74f7-4403-80f7-ad39ad6e7f58",
   "metadata": {
    "jp-MarkdownHeadingCollapsed": true
   },
   "source": [
    "#### Lenovo"
   ]
  },
  {
   "cell_type": "code",
   "execution_count": null,
   "id": "7bce5af2-4807-40aa-b665-9f71570171c4",
   "metadata": {},
   "outputs": [],
   "source": [
    "# URL = \"https://jobs.lenovo.com/en_US/careers/SearchJobs/?13036=%5B12016783%5D&13036_format=6621&listFilterMode=1&jobRecordsPerPage=10&\"\n",
    "\n",
    "# async def fetch_html(url: str) -> str:\n",
    "#     async with async_playwright() as p:\n",
    "#         browser = await p.chromium.launch(headless=True)\n",
    "#         context = await browser.new_context(\n",
    "#             user_agent=\"Mozilla/5.0 (Windows NT 10.0; Win64; x64) AppleWebKit/537.36 (KHTML, like Gecko) Chrome/120.0.0.0 Safari/537.36\",\n",
    "#             locale=\"en-US\"\n",
    "#         )\n",
    "#         page = await context.new_page()\n",
    "#         await page.goto(url, wait_until=\"networkidle\", timeout=60000)\n",
    "#         # small scroll to trigger any lazy content (optional)\n",
    "#         await page.evaluate(\"window.scrollTo(0, document.body.scrollHeight)\")\n",
    "#         await page.wait_for_timeout(500)\n",
    "#         html = await page.content()\n",
    "#         await browser.close()\n",
    "#         return html\n",
    "\n",
    "# async def main():\n",
    "#     html = await fetch_html(URL)\n",
    "#     soup = BeautifulSoup(html, \"lxml\")\n",
    "\n",
    "#     print(\"Page title:\", soup.title.get_text(strip=True) if soup.title else \"N/A\")\n",
    "\n",
    "#     # Heuristic selectors for job cards/titles (adjust as needed)\n",
    "#     titles = [a.get_text(strip=True) for a in soup.select(\n",
    "#         'a[data-ph-at-id=\"job-title\"], a[aria-label*=\"Job\"], a[title*=\"Job\"], h2, h3'\n",
    "#     )]\n",
    "#     # Deduplicate and show a few\n",
    "#     seen, cleaned = set(), []\n",
    "#     for t in titles:\n",
    "#         if t and t not in seen:\n",
    "#             seen.add(t)\n",
    "#             cleaned.append(t)\n",
    "#     for t in cleaned[:10]:\n",
    "#         print(\"-\", t)\n",
    "\n",
    "# if __name__ == \"__main__\":\n",
    "#     await main()"
   ]
  },
  {
   "cell_type": "markdown",
   "id": "c9c4723a-ade1-449e-8ae4-9944539e47a6",
   "metadata": {
    "jp-MarkdownHeadingCollapsed": true
   },
   "source": [
    "#### AWS"
   ]
  },
  {
   "cell_type": "code",
   "execution_count": 31,
   "id": "0d74b772-243c-403a-9860-56c544ffe55f",
   "metadata": {},
   "outputs": [],
   "source": [
    "# from bs4 import BeautifulSoup\n",
    "# from playwright.async_api import async_playwright\n",
    "\n",
    "# URL = \"https://www.amazon.jobs/content/en/locations/switzerland/zurich?category%5B%5D=Solutions+Architect\"\n",
    "\n",
    "# async def main():\n",
    "#     async with async_playwright() as p:\n",
    "#         browser = await p.chromium.launch(headless=True)\n",
    "#         context = await browser.new_context()\n",
    "#         page = await context.new_page()\n",
    "#         await page.goto(URL, wait_until=\"networkidle\")\n",
    "#         html = await page.content()\n",
    "#         await browser.close()\n",
    "\n",
    "#     soup = BeautifulSoup(html, \"html.parser\")\n",
    "#     seen, jobs = set(), []\n",
    "#     for a in soup.select('a[href*=\"/jobs/\"]'):\n",
    "#         href = a.get(\"href\")\n",
    "#         if not href:\n",
    "#             continue\n",
    "#         url = href if href.startswith(\"http\") else f\"https://www.amazon.jobs{href}\"\n",
    "#         title = a.get_text(strip=True)\n",
    "#         if url not in seen and title:\n",
    "#             seen.add(url)\n",
    "#             jobs.append((title, url))\n",
    "\n",
    "#     for title, url in jobs:\n",
    "#         print(f\"{title} - {url}\")\n",
    "\n",
    "# await main()"
   ]
  },
  {
   "cell_type": "code",
   "execution_count": 32,
   "id": "c1f78d88-b725-4466-b87e-5feb9c267c9e",
   "metadata": {},
   "outputs": [
    {
     "ename": "TimeoutError",
     "evalue": "Page.wait_for_selector: Timeout 30000ms exceeded.\nCall log:\n  - waiting for locator(\"iframe\") to be visible\n",
     "output_type": "error",
     "traceback": [
      "\u001b[0;31m---------------------------------------------------------------------------\u001b[0m",
      "\u001b[0;31mTimeoutError\u001b[0m                              Traceback (most recent call last)",
      "Cell \u001b[0;32mIn[32], line 45\u001b[0m\n\u001b[1;32m     41\u001b[0m             \u001b[38;5;28mprint\u001b[39m(\u001b[38;5;124mf\u001b[39m\u001b[38;5;124m\"\u001b[39m\u001b[38;5;132;01m{\u001b[39;00mjob[\u001b[38;5;124m'\u001b[39m\u001b[38;5;124mtitle\u001b[39m\u001b[38;5;124m'\u001b[39m]\u001b[38;5;132;01m}\u001b[39;00m\u001b[38;5;124m | \u001b[39m\u001b[38;5;132;01m{\u001b[39;00mjob[\u001b[38;5;124m'\u001b[39m\u001b[38;5;124mlocation\u001b[39m\u001b[38;5;124m'\u001b[39m]\u001b[38;5;250m \u001b[39m\u001b[38;5;129;01mor\u001b[39;00m\u001b[38;5;250m \u001b[39m\u001b[38;5;124m'\u001b[39m\u001b[38;5;124mN/A\u001b[39m\u001b[38;5;124m'\u001b[39m\u001b[38;5;132;01m}\u001b[39;00m\u001b[38;5;124m | \u001b[39m\u001b[38;5;132;01m{\u001b[39;00mjob[\u001b[38;5;124m'\u001b[39m\u001b[38;5;124murl\u001b[39m\u001b[38;5;124m'\u001b[39m]\u001b[38;5;132;01m}\u001b[39;00m\u001b[38;5;124m\"\u001b[39m)\n\u001b[1;32m     43\u001b[0m         \u001b[38;5;28;01mawait\u001b[39;00m browser\u001b[38;5;241m.\u001b[39mclose()\n\u001b[0;32m---> 45\u001b[0m \u001b[38;5;28;01mawait\u001b[39;00m main()\n",
      "Cell \u001b[0;32mIn[32], line 10\u001b[0m, in \u001b[0;36mmain\u001b[0;34m()\u001b[0m\n\u001b[1;32m      7\u001b[0m page \u001b[38;5;241m=\u001b[39m \u001b[38;5;28;01mawait\u001b[39;00m context\u001b[38;5;241m.\u001b[39mnew_page()\n\u001b[1;32m      8\u001b[0m \u001b[38;5;28;01mawait\u001b[39;00m page\u001b[38;5;241m.\u001b[39mgoto(URL, wait_until\u001b[38;5;241m=\u001b[39m\u001b[38;5;124m\"\u001b[39m\u001b[38;5;124mdomcontentloaded\u001b[39m\u001b[38;5;124m\"\u001b[39m)\n\u001b[0;32m---> 10\u001b[0m \u001b[38;5;28;01mawait\u001b[39;00m page\u001b[38;5;241m.\u001b[39mwait_for_selector(\u001b[38;5;124m\"\u001b[39m\u001b[38;5;124miframe\u001b[39m\u001b[38;5;124m\"\u001b[39m)\n\u001b[1;32m     11\u001b[0m target_frame \u001b[38;5;241m=\u001b[39m \u001b[38;5;28;01mNone\u001b[39;00m\n\u001b[1;32m     12\u001b[0m \u001b[38;5;28;01mfor\u001b[39;00m f \u001b[38;5;129;01min\u001b[39;00m page\u001b[38;5;241m.\u001b[39mframes:\n",
      "File \u001b[0;32m~/anaconda3/lib/python3.12/site-packages/playwright/async_api/_generated.py:8181\u001b[0m, in \u001b[0;36mPage.wait_for_selector\u001b[0;34m(self, selector, timeout, state, strict)\u001b[0m\n\u001b[1;32m   8110\u001b[0m \u001b[38;5;28;01masync\u001b[39;00m \u001b[38;5;28;01mdef\u001b[39;00m \u001b[38;5;21mwait_for_selector\u001b[39m(\n\u001b[1;32m   8111\u001b[0m     \u001b[38;5;28mself\u001b[39m,\n\u001b[1;32m   8112\u001b[0m     selector: \u001b[38;5;28mstr\u001b[39m,\n\u001b[0;32m   (...)\u001b[0m\n\u001b[1;32m   8118\u001b[0m     strict: typing\u001b[38;5;241m.\u001b[39mOptional[\u001b[38;5;28mbool\u001b[39m] \u001b[38;5;241m=\u001b[39m \u001b[38;5;28;01mNone\u001b[39;00m,\n\u001b[1;32m   8119\u001b[0m ) \u001b[38;5;241m-\u001b[39m\u001b[38;5;241m>\u001b[39m typing\u001b[38;5;241m.\u001b[39mOptional[\u001b[38;5;124m\"\u001b[39m\u001b[38;5;124mElementHandle\u001b[39m\u001b[38;5;124m\"\u001b[39m]:\n\u001b[1;32m   8120\u001b[0m \u001b[38;5;250m    \u001b[39m\u001b[38;5;124;03m\"\"\"Page.wait_for_selector\u001b[39;00m\n\u001b[1;32m   8121\u001b[0m \n\u001b[1;32m   8122\u001b[0m \u001b[38;5;124;03m    Returns when element specified by selector satisfies `state` option. Returns `null` if waiting for `hidden` or\u001b[39;00m\n\u001b[0;32m   (...)\u001b[0m\n\u001b[1;32m   8177\u001b[0m \u001b[38;5;124;03m    Union[ElementHandle, None]\u001b[39;00m\n\u001b[1;32m   8178\u001b[0m \u001b[38;5;124;03m    \"\"\"\u001b[39;00m\n\u001b[1;32m   8180\u001b[0m     \u001b[38;5;28;01mreturn\u001b[39;00m mapping\u001b[38;5;241m.\u001b[39mfrom_impl_nullable(\n\u001b[0;32m-> 8181\u001b[0m         \u001b[38;5;28;01mawait\u001b[39;00m \u001b[38;5;28mself\u001b[39m\u001b[38;5;241m.\u001b[39m_impl_obj\u001b[38;5;241m.\u001b[39mwait_for_selector(\n\u001b[1;32m   8182\u001b[0m             selector\u001b[38;5;241m=\u001b[39mselector, timeout\u001b[38;5;241m=\u001b[39mtimeout, state\u001b[38;5;241m=\u001b[39mstate, strict\u001b[38;5;241m=\u001b[39mstrict\n\u001b[1;32m   8183\u001b[0m         )\n\u001b[1;32m   8184\u001b[0m     )\n",
      "File \u001b[0;32m~/anaconda3/lib/python3.12/site-packages/playwright/_impl/_page.py:423\u001b[0m, in \u001b[0;36mPage.wait_for_selector\u001b[0;34m(self, selector, timeout, state, strict)\u001b[0m\n\u001b[1;32m    416\u001b[0m \u001b[38;5;28;01masync\u001b[39;00m \u001b[38;5;28;01mdef\u001b[39;00m \u001b[38;5;21mwait_for_selector\u001b[39m(\n\u001b[1;32m    417\u001b[0m     \u001b[38;5;28mself\u001b[39m,\n\u001b[1;32m    418\u001b[0m     selector: \u001b[38;5;28mstr\u001b[39m,\n\u001b[0;32m   (...)\u001b[0m\n\u001b[1;32m    421\u001b[0m     strict: \u001b[38;5;28mbool\u001b[39m \u001b[38;5;241m=\u001b[39m \u001b[38;5;28;01mNone\u001b[39;00m,\n\u001b[1;32m    422\u001b[0m ) \u001b[38;5;241m-\u001b[39m\u001b[38;5;241m>\u001b[39m Optional[ElementHandle]:\n\u001b[0;32m--> 423\u001b[0m     \u001b[38;5;28;01mreturn\u001b[39;00m \u001b[38;5;28;01mawait\u001b[39;00m \u001b[38;5;28mself\u001b[39m\u001b[38;5;241m.\u001b[39m_main_frame\u001b[38;5;241m.\u001b[39mwait_for_selector(\u001b[38;5;241m*\u001b[39m\u001b[38;5;241m*\u001b[39mlocals_to_params(\u001b[38;5;28mlocals\u001b[39m()))\n",
      "File \u001b[0;32m~/anaconda3/lib/python3.12/site-packages/playwright/_impl/_frame.py:369\u001b[0m, in \u001b[0;36mFrame.wait_for_selector\u001b[0;34m(self, selector, strict, timeout, state)\u001b[0m\n\u001b[1;32m    361\u001b[0m \u001b[38;5;28;01masync\u001b[39;00m \u001b[38;5;28;01mdef\u001b[39;00m \u001b[38;5;21mwait_for_selector\u001b[39m(\n\u001b[1;32m    362\u001b[0m     \u001b[38;5;28mself\u001b[39m,\n\u001b[1;32m    363\u001b[0m     selector: \u001b[38;5;28mstr\u001b[39m,\n\u001b[0;32m   (...)\u001b[0m\n\u001b[1;32m    366\u001b[0m     state: Literal[\u001b[38;5;124m\"\u001b[39m\u001b[38;5;124mattached\u001b[39m\u001b[38;5;124m\"\u001b[39m, \u001b[38;5;124m\"\u001b[39m\u001b[38;5;124mdetached\u001b[39m\u001b[38;5;124m\"\u001b[39m, \u001b[38;5;124m\"\u001b[39m\u001b[38;5;124mhidden\u001b[39m\u001b[38;5;124m\"\u001b[39m, \u001b[38;5;124m\"\u001b[39m\u001b[38;5;124mvisible\u001b[39m\u001b[38;5;124m\"\u001b[39m] \u001b[38;5;241m=\u001b[39m \u001b[38;5;28;01mNone\u001b[39;00m,\n\u001b[1;32m    367\u001b[0m ) \u001b[38;5;241m-\u001b[39m\u001b[38;5;241m>\u001b[39m Optional[ElementHandle]:\n\u001b[1;32m    368\u001b[0m     \u001b[38;5;28;01mreturn\u001b[39;00m from_nullable_channel(\n\u001b[0;32m--> 369\u001b[0m         \u001b[38;5;28;01mawait\u001b[39;00m \u001b[38;5;28mself\u001b[39m\u001b[38;5;241m.\u001b[39m_channel\u001b[38;5;241m.\u001b[39msend(\n\u001b[1;32m    370\u001b[0m             \u001b[38;5;124m\"\u001b[39m\u001b[38;5;124mwaitForSelector\u001b[39m\u001b[38;5;124m\"\u001b[39m, \u001b[38;5;28mself\u001b[39m\u001b[38;5;241m.\u001b[39m_timeout, locals_to_params(\u001b[38;5;28mlocals\u001b[39m())\n\u001b[1;32m    371\u001b[0m         )\n\u001b[1;32m    372\u001b[0m     )\n",
      "File \u001b[0;32m~/anaconda3/lib/python3.12/site-packages/playwright/_impl/_connection.py:69\u001b[0m, in \u001b[0;36mChannel.send\u001b[0;34m(self, method, timeout_calculator, params, is_internal, title)\u001b[0m\n\u001b[1;32m     61\u001b[0m \u001b[38;5;28;01masync\u001b[39;00m \u001b[38;5;28;01mdef\u001b[39;00m \u001b[38;5;21msend\u001b[39m(\n\u001b[1;32m     62\u001b[0m     \u001b[38;5;28mself\u001b[39m,\n\u001b[1;32m     63\u001b[0m     method: \u001b[38;5;28mstr\u001b[39m,\n\u001b[0;32m   (...)\u001b[0m\n\u001b[1;32m     67\u001b[0m     title: \u001b[38;5;28mstr\u001b[39m \u001b[38;5;241m=\u001b[39m \u001b[38;5;28;01mNone\u001b[39;00m,\n\u001b[1;32m     68\u001b[0m ) \u001b[38;5;241m-\u001b[39m\u001b[38;5;241m>\u001b[39m Any:\n\u001b[0;32m---> 69\u001b[0m     \u001b[38;5;28;01mreturn\u001b[39;00m \u001b[38;5;28;01mawait\u001b[39;00m \u001b[38;5;28mself\u001b[39m\u001b[38;5;241m.\u001b[39m_connection\u001b[38;5;241m.\u001b[39mwrap_api_call(\n\u001b[1;32m     70\u001b[0m         \u001b[38;5;28;01mlambda\u001b[39;00m: \u001b[38;5;28mself\u001b[39m\u001b[38;5;241m.\u001b[39m_inner_send(method, timeout_calculator, params, \u001b[38;5;28;01mFalse\u001b[39;00m),\n\u001b[1;32m     71\u001b[0m         is_internal,\n\u001b[1;32m     72\u001b[0m         title,\n\u001b[1;32m     73\u001b[0m     )\n",
      "File \u001b[0;32m~/anaconda3/lib/python3.12/site-packages/playwright/_impl/_connection.py:558\u001b[0m, in \u001b[0;36mConnection.wrap_api_call\u001b[0;34m(self, cb, is_internal, title)\u001b[0m\n\u001b[1;32m    556\u001b[0m     \u001b[38;5;28;01mreturn\u001b[39;00m \u001b[38;5;28;01mawait\u001b[39;00m cb()\n\u001b[1;32m    557\u001b[0m \u001b[38;5;28;01mexcept\u001b[39;00m \u001b[38;5;167;01mException\u001b[39;00m \u001b[38;5;28;01mas\u001b[39;00m error:\n\u001b[0;32m--> 558\u001b[0m     \u001b[38;5;28;01mraise\u001b[39;00m rewrite_error(error, \u001b[38;5;124mf\u001b[39m\u001b[38;5;124m\"\u001b[39m\u001b[38;5;132;01m{\u001b[39;00mparsed_st[\u001b[38;5;124m'\u001b[39m\u001b[38;5;124mapiName\u001b[39m\u001b[38;5;124m'\u001b[39m]\u001b[38;5;132;01m}\u001b[39;00m\u001b[38;5;124m: \u001b[39m\u001b[38;5;132;01m{\u001b[39;00merror\u001b[38;5;132;01m}\u001b[39;00m\u001b[38;5;124m\"\u001b[39m) \u001b[38;5;28;01mfrom\u001b[39;00m \u001b[38;5;28;01mNone\u001b[39;00m\n\u001b[1;32m    559\u001b[0m \u001b[38;5;28;01mfinally\u001b[39;00m:\n\u001b[1;32m    560\u001b[0m     \u001b[38;5;28mself\u001b[39m\u001b[38;5;241m.\u001b[39m_api_zone\u001b[38;5;241m.\u001b[39mset(\u001b[38;5;28;01mNone\u001b[39;00m)\n",
      "\u001b[0;31mTimeoutError\u001b[0m: Page.wait_for_selector: Timeout 30000ms exceeded.\nCall log:\n  - waiting for locator(\"iframe\") to be visible\n"
     ]
    }
   ],
   "source": [
    "URL = \"https://csl.wd1.myworkdayjobs.com/en-EN/CSL_External?locationCountry=187134fccb084a0ea9b4b95f23890dbe\"\n",
    "\n",
    "async def main():\n",
    "    async with async_playwright() as p:\n",
    "        browser = await p.chromium.launch(headless=True)\n",
    "        context = await browser.new_context()\n",
    "        page = await context.new_page()\n",
    "        await page.goto(URL, wait_until=\"domcontentloaded\")\n",
    "\n",
    "        await page.wait_for_selector(\"iframe\")\n",
    "        target_frame = None\n",
    "        for f in page.frames:\n",
    "            if f != page.main_frame and \"myworkdayjobs.com\" in f.url:\n",
    "                target_frame = f\n",
    "                break\n",
    "        if target_frame is None:\n",
    "            frames = [f for f in page.frames if f != page.main_frame]\n",
    "            target_frame = frames[0] if frames else page.main_frame\n",
    "\n",
    "        try:\n",
    "            await target_frame.wait_for_selector('a[data-automation=\"jobTitle\"]', timeout=20000)\n",
    "        except PlaywrightTimeoutError:\n",
    "            pass\n",
    "\n",
    "        html = await target_frame.content()\n",
    "        soup = BeautifulSoup(html, \"html.parser\")\n",
    "\n",
    "        jobs = []\n",
    "        for a in soup.select('a[data-automation=\"jobTitle\"]'):\n",
    "            title = a.get_text(strip=True)\n",
    "            href = a.get(\"href\")\n",
    "            link = urljoin(target_frame.url, href) if href else None\n",
    "            container = a.find_parent([\"li\", \"div\"])\n",
    "            location = None\n",
    "            if container:\n",
    "                loc = container.select_one('[data-automation=\"locations\"]')\n",
    "                location = loc.get_text(strip=True) if loc else None\n",
    "            jobs.append({\"title\": title, \"url\": link, \"location\": location})\n",
    "\n",
    "        for job in jobs:\n",
    "            print(f\"{job['title']} | {job['location'] or 'N/A'} | {job['url']}\")\n",
    "\n",
    "        await browser.close()\n",
    "\n",
    "await main()"
   ]
  },
  {
   "cell_type": "code",
   "execution_count": null,
   "id": "9453d650-0fe5-41c9-a4c5-6f50c3eaf4c0",
   "metadata": {},
   "outputs": [],
   "source": []
  }
 ],
 "metadata": {
  "kernelspec": {
   "display_name": "Python 3 (ipykernel)",
   "language": "python",
   "name": "python3"
  },
  "language_info": {
   "codemirror_mode": {
    "name": "ipython",
    "version": 3
   },
   "file_extension": ".py",
   "mimetype": "text/x-python",
   "name": "python",
   "nbconvert_exporter": "python",
   "pygments_lexer": "ipython3",
   "version": "3.12.7"
  }
 },
 "nbformat": 4,
 "nbformat_minor": 5
}
